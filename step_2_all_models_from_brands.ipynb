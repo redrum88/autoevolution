{
  "cells": [
    {
      "cell_type": "markdown",
      "metadata": {
        "id": "view-in-github",
        "colab_type": "text"
      },
      "source": [
        "<a href=\"https://colab.research.google.com/github/redrum88/autoevolution/blob/main/step_2_all_models_from_brands.ipynb\" target=\"_parent\"><img src=\"https://colab.research.google.com/assets/colab-badge.svg\" alt=\"Open In Colab\"/></a>"
      ]
    },
    {
      "cell_type": "code",
      "execution_count": null,
      "id": "61bf9d03-0b8d-44dc-818e-59c9d9574307",
      "metadata": {
        "id": "61bf9d03-0b8d-44dc-818e-59c9d9574307"
      },
      "outputs": [],
      "source": [
        "import pandas as pd\n",
        "import os\n",
        "import requests\n",
        "from bs4 import BeautifulSoup\n",
        "import pandas as pd\n",
        "\n",
        "INPUT_FILE = 'brand_names.csv'\n",
        "OUTPUT_FILE = \"all_model_variants.csv\"\n",
        "\n",
        "brands_df = pd.read_csv(INPUT_FILE)\n",
        "\n",
        "# Convert Brand URL column values to list\n",
        "url_list = brands_df['Brand URL'].tolist()\n",
        "brand_name_list = brands_df['Brand Name'].tolist()\n",
        "brand_logo_url_list = brands_df['Brand Logo'].tolist()\n",
        "len(url_list), len(brand_name_list), len(brand_logo_url_list)\n",
        "\n"
      ]
    },
    {
      "cell_type": "code",
      "execution_count": null,
      "id": "69356c9f-3f74-42fc-bc4e-b06a73b9ff91",
      "metadata": {
        "id": "69356c9f-3f74-42fc-bc4e-b06a73b9ff91"
      },
      "outputs": [],
      "source": [
        "\n",
        "PATH_DIR = \"data/models/\"\n",
        "\n",
        "# Create folder if not exist\n",
        "if not os.path.exists(PATH_DIR):\n",
        "    os.makedirs(PATH_DIR)\n",
        "\n",
        "for idx, row in brands_df.iterrows():\n",
        "    url = row['Brand URL']\n",
        "    name = row['Brand Name']\n",
        "    logo_url = row['Brand Logo']\n",
        "\n",
        "    response = requests.get(url)\n",
        "    soup = BeautifulSoup(response.content, 'html.parser')\n",
        "    cars = soup.find_all('div', class_='carmod')\n",
        "    car_data = []\n",
        "\n",
        "    for car in cars:\n",
        "        car_model = car.find('h4').text.strip()\n",
        "        car_years = car.find('div', class_='col3width').find_all('span')[0].text.strip()\n",
        "        car_link = car.find('a')['href']\n",
        "        car_image = car.find('img')['src']\n",
        "        car_dict = {'Model': car_model,\n",
        "                    'Years': car_years,\n",
        "                    'Link': car_link,\n",
        "                    'Image_Link': car_image,\n",
        "                    'Brand URL': url,\n",
        "                    'Brand': name,\n",
        "                    'Brand Logo URL': logo_url}\n",
        "        car_data.append(car_dict)\n",
        "\n",
        "    #print(car_dict)\n",
        "    df = pd.DataFrame(car_data)\n",
        "    save_path = PATH_DIR\n",
        "    file_name = url.split(\"/\")[-2]\n",
        "    df.to_csv(os.path.join(save_path, file_name + '.csv'), index=False)\n",
        "\n",
        "    print(f\"{len(car_data)} car models extracted from {name}\")\n"
      ]
    },
    {
      "cell_type": "code",
      "execution_count": null,
      "id": "7dbd34f0-f362-49a0-97b5-d9e6eee49e27",
      "metadata": {
        "id": "7dbd34f0-f362-49a0-97b5-d9e6eee49e27"
      },
      "outputs": [],
      "source": [
        "import os\n",
        "import glob\n",
        "import pandas as pd\n",
        "\n",
        "\n",
        "# Input directory\n",
        "input_dir = \"data/models/\"\n",
        "\n",
        "# Output directory\n",
        "output_dir = \"data/\"\n",
        "\n",
        "# Find all .csv files in input_dir\n",
        "csv_files = glob.glob(os.path.join(input_dir, \"*.csv\"))\n",
        "\n",
        "# Initialize dataframe\n",
        "combined_data = pd.DataFrame()\n",
        "\n",
        "# Loop each .csv file\n",
        "for csv_file in csv_files:\n",
        "    data = pd.read_csv(csv_file)\n",
        "    combined_data = pd.concat([combined_data, data])\n",
        "\n",
        "# Save combined data to .csv file\n",
        "combined_data.to_csv(os.path.join(output_dir, OUTPUT_FILE), index=False)\n"
      ]
    }
  ],
  "metadata": {
    "kernelspec": {
      "display_name": "Python 3 (ipykernel)",
      "language": "python",
      "name": "python3"
    },
    "language_info": {
      "codemirror_mode": {
        "name": "ipython",
        "version": 3
      },
      "file_extension": ".py",
      "mimetype": "text/x-python",
      "name": "python",
      "nbconvert_exporter": "python",
      "pygments_lexer": "ipython3",
      "version": "3.9.13"
    },
    "colab": {
      "provenance": [],
      "include_colab_link": true
    }
  },
  "nbformat": 4,
  "nbformat_minor": 5
}