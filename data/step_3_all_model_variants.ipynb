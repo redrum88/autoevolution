{
  "cells": [
    {
      "cell_type": "code",
      "execution_count": null,
      "id": "610b8af2-1d18-4518-9676-5a5767b05b3c",
      "metadata": {
        "id": "610b8af2-1d18-4518-9676-5a5767b05b3c"
      },
      "outputs": [],
      "source": [
        "import pandas as pd\n",
        "\n",
        "INPUT_FILE = \"all_models.csv\"\n",
        "OUTPUT_FILE = \"all_model_variants.csv\"\n",
        "\n",
        "df = pd.read_csv(INPUT_FILE)"
      ]
    },
    {
      "cell_type": "code",
      "execution_count": null,
      "id": "72bd064d-440b-49fd-9d77-666c4149a93a",
      "metadata": {
        "id": "72bd064d-440b-49fd-9d77-666c4149a93a"
      },
      "outputs": [],
      "source": [
        "url_list = df['Link'].to_list()\n",
        "model_list = df['Model'].to_list()\n",
        "year_list = df['Years'].to_list()\n",
        "len(url_list), len(model_list), len(year_list)"
      ]
    },
    {
      "cell_type": "code",
      "execution_count": null,
      "id": "d986c6ca-3350-4d9b-adc4-638b9ece73de",
      "metadata": {
        "id": "d986c6ca-3350-4d9b-adc4-638b9ece73de"
      },
      "outputs": [],
      "source": [
        "model_data = []\n",
        "\n",
        "for url in url_list:\n",
        "    response = requests.get(url)\n",
        "    soup = BeautifulSoup(response.content, 'html.parser')\n",
        "    models = soup.find_all('div', class_='container carmodel clearfix')\n",
        "    first_model = soup.find('div', class_='')\n",
        "\n",
        "    for model in models:\n",
        "        brand_model = model.find('h2').text.strip()\n",
        "        model_url = model.find('a')['href']\n",
        "        \n",
        "        # filter df to retrieve missing columns\n",
        "        row = df.loc[df['Link'] == url]\n",
        "        brand = row['Brand'].values[0]\n",
        "        brand_logo_url = row['Brand Logo URL'].values[0]\n",
        "        \n",
        "        # create new row with all columns\n",
        "        data = {\n",
        "            \"Model\": brand_model,\n",
        "            \"Model URL\": model_url,\n",
        "            \"Years\": row['Years'].values[0],\n",
        "            \"Link\": model_url,\n",
        "            \"Image_Link\": row['Image_Link'].values[0],\n",
        "            \"Brand URL\": row['Brand URL'].values[0],\n",
        "            \"Brand\": brand,\n",
        "            \"Brand Logo URL\": brand_logo_url\n",
        "        }\n",
        "        model_data.append(data)\n",
        "\n",
        "variants_df = pd.DataFrame(model_data)\n",
        "print(len(models_df))\n",
        "variants_df.to_csv(OUTPUT_FILE, index=False)\n",
        "variants_df.head()\n"
      ]
    }
  ],
  "metadata": {
    "kernelspec": {
      "display_name": "Python 3 (ipykernel)",
      "language": "python",
      "name": "python3"
    },
    "language_info": {
      "codemirror_mode": {
        "name": "ipython",
        "version": 3
      },
      "file_extension": ".py",
      "mimetype": "text/x-python",
      "name": "python",
      "nbconvert_exporter": "python",
      "pygments_lexer": "ipython3",
      "version": "3.9.13"
    },
    "colab": {
      "provenance": []
    }
  },
  "nbformat": 4,
  "nbformat_minor": 5
}